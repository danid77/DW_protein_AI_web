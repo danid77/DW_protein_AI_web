{
 "cells": [
  {
   "cell_type": "code",
   "execution_count": 12,
   "metadata": {},
   "outputs": [],
   "source": [
    "datas = [{'Entity': 'Protein', 'Copies': 1, 'Content': 'QPHIGNYRLLKTLGKGNFAVVKLARHILTGKEVAIKIIDKTQLNSSSLQKIFREVRIMKVLNHPNIIKLFEVIETEKTLYLVTEYAKNGEVFDYLVAHGRMKEKEARAKFRQIVSAVQYCHQKFIVHRDLKAENLLLDADMNIKIADFGFGNEFTFGNKLDTFCGSPPYAAPELFQGKKYDGPEVDVWSLGVILYTLVSGSLPFDGQNLKELRERVLRGKYRIPFYMSTDCENLLKKFLILNPSKRGTLEQIMKDRWMNVGHEDDELKPYVEPLPDYKDPRRTELMVSMGYTREEIQDSLVGQRYNEVMATYLLLGY'}, {'Entity': 'Ligand', 'Copies': 1, 'Content': 'CN1CC[C@@H](COc2cnc(C#N)cc2-c2ccn3nc(NC(=O)C4CC4)cc3c2)C1'}]"
   ]
  },
  {
   "cell_type": "code",
   "execution_count": 16,
   "metadata": {},
   "outputs": [
    {
     "name": "stdout",
     "output_type": "stream",
     "text": [
      "{'Entity': 'Ligand', 'Copies': 1, 'Content': 'CN1CC[C@@H](COc2cnc(C#N)cc2-c2ccn3nc(NC(=O)C4CC4)cc3c2)C1'}\n"
     ]
    },
    {
     "data": {
      "text/plain": [
       "{'Entity': 'Protein',\n",
       " 'Copies': 1,\n",
       " 'Content': 'QPHIGNYRLLKTLGKGNFAVVKLARHILTGKEVAIKIIDKTQLNSSSLQKIFREVRIMKVLNHPNIIKLFEVIETEKTLYLVTEYAKNGEVFDYLVAHGRMKEKEARAKFRQIVSAVQYCHQKFIVHRDLKAENLLLDADMNIKIADFGFGNEFTFGNKLDTFCGSPPYAAPELFQGKKYDGPEVDVWSLGVILYTLVSGSLPFDGQNLKELRERVLRGKYRIPFYMSTDCENLLKKFLILNPSKRGTLEQIMKDRWMNVGHEDDELKPYVEPLPDYKDPRRTELMVSMGYTREEIQDSLVGQRYNEVMATYLLLGY'}"
      ]
     },
     "execution_count": 16,
     "metadata": {},
     "output_type": "execute_result"
    }
   ],
   "source": [
    "print(datas[1])\n",
    "datas[0]"
   ]
  },
  {
   "cell_type": "code",
   "execution_count": 17,
   "metadata": {},
   "outputs": [
    {
     "name": "stdout",
     "output_type": "stream",
     "text": [
      "Boltz 계산 중... 잠시만 기다려 주세요. (시작 시간: 2024-12-19 17:41:13.806569)\n",
      "결과는 /opt/git_tools/_development/DW_protein_AI_web/dw_ai_protein_web/datas/outputs/boltz/20241219_17h_41m_13s_result에서 저장되었습니다!\n",
      "결과 파일은 boltz_results_[input 파일 이름]/predictions/[input 파일 이름] 내에 .cif 형태로 저장되었습니다!\n",
      "총 소요 시간: 0:01:35.569205\n",
      "스코어 요약이 CSV 파일로 저장되었습니다: /opt/git_tools/_development/DW_protein_AI_web/dw_ai_protein_web/datas/outputs/boltz/20241219_17h_41m_13s_result/boltz_results_boltz/predictions/boltz/scores_summary.csv\n"
     ]
    }
   ],
   "source": [
    "import os\n",
    "import sys\n",
    "import json\n",
    "import shutil\n",
    "import pandas as pd\n",
    "from datetime import datetime\n",
    "import subprocess\n",
    "from concurrent.futures import ThreadPoolExecutor\n",
    "\n",
    "def boltzInputDataGenerate(pdb_id, datas, folder_path):\n",
    "    boltz_input_file = f\"{folder_path}/{pdb_id}.fasta\"\n",
    "    # 알파벳 리스트 생성\n",
    "    alphabet = \"ABCDEFGHIJKLMNOPQRSTUVWXYZ\"\n",
    "    alphabet_idx = 0  # 알파벳 인덱스 초기화\n",
    "\n",
    "    with open(boltz_input_file, \"w\") as fasta:\n",
    "        for data in datas:\n",
    "            for _ in range(data['Copies']):  # Copies 수만큼 반복\n",
    "                if alphabet_idx >= len(alphabet):  # 알파벳이 다 쓰이면 종료\n",
    "                    break\n",
    "                current_alphabet = alphabet[alphabet_idx]  # 현재 알파벳 선택\n",
    "                alphabet_idx += 1  # 다음 알파벳으로 이동\n",
    "\n",
    "                if data['Entity'] == 'Protein':\n",
    "                    fasta.write(f\">{current_alphabet}|protein|\\n\")\n",
    "                    fasta.write(f\"{data['Content']}\\n\")\n",
    "                elif data['Entity'] == 'Ligand':\n",
    "                    fasta.write(f\">{current_alphabet}|smiles|\\n\")\n",
    "                    fasta.write(f\"{data['Content']}\\n\")\n",
    "        \n",
    "    return boltz_input_file\n",
    "\n",
    "def createInputFolder(job):\n",
    "    current_time = datetime.now().strftime(\"%Y%m%d_%Hh_%Mm_%Ss\")\n",
    "    input_file_path = os.path.join(f\"/opt/git_tools/_development/DW_protein_AI_web/dw_ai_protein_web/datas/inputs/{job}/{current_time}\")\n",
    "    if not os.path.exists(input_file_path):\n",
    "        os.makedirs(input_file_path)\n",
    "    origin_output_dir = f\"/opt/git_tools/_development/DW_protein_AI_web/dw_ai_protein_web/datas/outputs/{job}/{current_time}_result\"\n",
    "    return input_file_path, origin_output_dir\n",
    "\n",
    "def runBoltz(input_path, output_path):\n",
    "    if not input_path or not output_path:\n",
    "        print(\"Error: Both input and output paths must be provided.\")\n",
    "        sys.exit(1)\n",
    "    \n",
    "    recycling_steps = 3\n",
    "    sampling_steps = 200\n",
    "    num_workers = 4\n",
    "    \n",
    "    # Boltz 실행 명령어 구성\n",
    "    run = [\n",
    "        \"/opt/anaconda3/envs/boltz/bin/boltz\",\n",
    "        \"predict\",\n",
    "        f\"{input_path}\",\n",
    "        \"--out_dir\", f\"{output_path}/\",\n",
    "        \"--cache\", \"/opt/git_tools/boltz/model/\",\n",
    "        \"--recycling_steps\", str(recycling_steps),\n",
    "        \"--sampling_steps\", str(sampling_steps),\n",
    "        \"--diffusion_samples\", \"5\",\n",
    "        \"--num_workers\", str(num_workers),\n",
    "        \"--use_msa_server\"\n",
    "    ]\n",
    "     # 계산 시작 시간 기록\n",
    "    start_time = datetime.now()\n",
    "    print(f\"Boltz 계산 중... 잠시만 기다려 주세요. (시작 시간: {start_time})\")\n",
    "\n",
    "    # Boltz 실행\n",
    "    result_boltz = subprocess.run(run, capture_output=True, text=True)\n",
    "\n",
    "    # 계산 종료 시간 기록\n",
    "    end_time = datetime.now()\n",
    "\n",
    "    if result_boltz.returncode != 0:\n",
    "        print(\"Boltz 실행 중 오류가 발생했습니다.\")\n",
    "        print(f\"오류 메시지: {result_boltz.stderr}\")\n",
    "    else:\n",
    "        elapsed_time = end_time - start_time\n",
    "        print(f\"결과는 {output_path}에서 저장되었습니다!\")\n",
    "        print(f\"결과 파일은 boltz_results_[input 파일 이름]/predictions/[input 파일 이름] 내에 .cif 형태로 저장되었습니다!\")\n",
    "        print(f\"총 소요 시간: {elapsed_time}\")\n",
    "\n",
    "        # 결과 디렉토리에서 스코어 추출 및 CSV 저장\n",
    "        # 입력 파일 이름에서 확장자 제거\n",
    "        input_basename = os.path.splitext(os.path.basename(input_path))[0]\n",
    "        predictions_folder = os.path.join(output_path, f\"boltz_results_{input_basename}/predictions/{input_basename}\")\n",
    "        \n",
    "        if not os.path.exists(predictions_folder):\n",
    "            print(f\"예상된 결과 폴더가 없습니다: {predictions_folder}\")\n",
    "        else:\n",
    "            score_files = [f for f in os.listdir(predictions_folder) if f.startswith(\"confidence_\") and f.endswith(\".json\")]\n",
    "            \n",
    "            if not score_files:\n",
    "                print(\"스코어 파일이 발견되지 않았습니다.\")\n",
    "            else:\n",
    "                # 주요 스코어 추출\n",
    "                data = []\n",
    "                for score_file in score_files:\n",
    "                    score_path = os.path.join(predictions_folder, score_file)\n",
    "                    with open(score_path, \"r\") as f:\n",
    "                        json_data = json.load(f)\n",
    "                    \n",
    "                    # 주요 스코어 추출\n",
    "                    confidence_score = json_data.get(\"confidence_score\")\n",
    "                    ptm = json_data.get(\"ptm\")\n",
    "                    iptm = json_data.get(\"iptm\")\n",
    "                    ligand_iptm = json_data.get(\"ligand_iptm\")\n",
    "                    complex_plddt = json_data.get(\"complex_plddt\")\n",
    "                    complex_iplddt = json_data.get(\"complex_iplddt\")\n",
    "                    \n",
    "                    # 데이터 추가\n",
    "                    data.append({\n",
    "                        \"File\": score_file,\n",
    "                        \"Confidence Score\": confidence_score,\n",
    "                        \"PTM\": ptm,\n",
    "                        \"IPTM\": iptm,\n",
    "                        \"Ligand IPTM\": ligand_iptm,\n",
    "                        \"Complex pLDDT\": complex_plddt,\n",
    "                        \"Complex ipLDDT\": complex_iplddt,\n",
    "                    })\n",
    "\n",
    "                # DataFrame으로 변환 및 반올림\n",
    "                df = pd.DataFrame(data)\n",
    "                df = df.round(3)  # 소수점 세 자리로 반올림\n",
    "\n",
    "                # CSV 저장\n",
    "                csv_path = os.path.join(predictions_folder, \"scores_summary.csv\")\n",
    "                df.to_csv(csv_path, index=False)\n",
    "                print(f\"스코어 요약이 CSV 파일로 저장되었습니다: {csv_path}\")\n",
    "    \n",
    "    return predictions_folder\n",
    "\n",
    "def makeZip(outfoler):\n",
    "    # 압축 파일 저장 경로와 이름 (zip 형식)\n",
    "    output_zip_file = f\"{outfoler}.zip\"\n",
    "    shutil.make_archive(\n",
    "        base_name=output_zip_file.replace(\".zip\", \"\"),  # 확장자 제외한 이름\n",
    "        format=\"zip\",  # 압축 형식\n",
    "        root_dir=outfoler  # 압축 대상 폴더\n",
    "    )\n",
    "    print(f\"압축 완료: {output_zip_file}\")\n",
    "    # 압축 대상 폴더 삭제\n",
    "    if os.path.exists(outfoler):\n",
    "        shutil.rmtree(outfoler)\n",
    "        print(f\"폴더 삭제 완료: {outfoler}\")\n",
    "    else:\n",
    "        print(f\"폴더가 존재하지 않습니다: {outfoler}\")\n",
    "    \n",
    "    return output_zip_file\n",
    "\n",
    "if __name__ == \"__main__\":\n",
    "    job = \"boltz\"\n",
    "    input_file_path, origin_output_dir = createInputFolder(job)\n",
    "    boltz_input_file = boltzInputDataGenerate(job, datas, input_file_path)\n",
    "    \n",
    "    # 병렬 처리\n",
    "    with ThreadPoolExecutor(max_workers=4) as executor:\n",
    "        result_boltz = executor.submit(runBoltz, boltz_input_file, origin_output_dir)\n",
    "        # makeZip(result_boltz.result().args[3])\n"
   ]
  },
  {
   "cell_type": "code",
   "execution_count": 19,
   "metadata": {},
   "outputs": [
    {
     "data": {
      "text/plain": [
       "'/opt/git_tools/_development/DW_protein_AI_web/dw_ai_protein_web/datas/outputs/boltz/20241219_17h_41m_13s_result'"
      ]
     },
     "execution_count": 19,
     "metadata": {},
     "output_type": "execute_result"
    }
   ],
   "source": [
    "result_boltz.result()\n",
    "\"/\".join(result_boltz.result().split('/')[:-3])"
   ]
  },
  {
   "cell_type": "code",
   "execution_count": 10,
   "metadata": {},
   "outputs": [
    {
     "data": {
      "text/plain": [
       "'/opt/git_tools/_development/DW_protein_AI_web/dw_ai_protein_web/datas/outputs/boltz/20241219_16h_00m_57s_result/boltz_results_boltz'"
      ]
     },
     "execution_count": 10,
     "metadata": {},
     "output_type": "execute_result"
    }
   ],
   "source": [
    "path_test = \"/opt/git_tools/_development/DW_protein_AI_web/dw_ai_protein_web/datas/outputs/boltz/20241219_16h_00m_57s_result/boltz_results_boltz/predictions/boltz/\"\n",
    "\"/\".join(result_boltz.result().split('/')[:-3])"
   ]
  },
  {
   "cell_type": "code",
   "execution_count": 25,
   "metadata": {},
   "outputs": [],
   "source": [
    "pdb_id = \"boltz_test\"\n",
    "boltz_input_dir = boltzInputDataGenerate(pdb_id, datas, folder_path=\"\")"
   ]
  },
  {
   "cell_type": "code",
   "execution_count": 26,
   "metadata": {},
   "outputs": [
    {
     "data": {
      "text/plain": [
       "'/opt/git_tools/_development/DW_protein_AI_web/test'"
      ]
     },
     "execution_count": 26,
     "metadata": {},
     "output_type": "execute_result"
    }
   ],
   "source": [
    "boltz_input_dir"
   ]
  },
  {
   "cell_type": "markdown",
   "metadata": {},
   "source": [
    "___"
   ]
  },
  {
   "cell_type": "code",
   "execution_count": null,
   "metadata": {},
   "outputs": [],
   "source": [
    "model_seeds = [1]\n",
    "# JSON 생성\n",
    "json_data = {\n",
    "    \"name\": pdb_id,\n",
    "    \"sequences\": [\n",
    "        {\n",
    "            \"protein\": {\n",
    "                \"id\": \"P\",\n",
    "                \"sequence\": protein_sequence\n",
    "            }\n",
    "        },\n",
    "        {\n",
    "            \"ligand\": {\n",
    "                \"id\": \"L\",\n",
    "                \"smiles\": ligand_smiles\n",
    "            }\n",
    "        }\n",
    "    ],\n",
    "    \"modelSeeds\": model_seeds,\n",
    "    \"dialect\": \"alphafold3\",\n",
    "    \"version\": 1\n",
    "}\n",
    "\n",
    "# JSON 문자열로 변환\n",
    "json_string = json.dumps(json_data, indent=4)"
   ]
  },
  {
   "cell_type": "code",
   "execution_count": null,
   "metadata": {},
   "outputs": [
    {
     "name": "stdout",
     "output_type": "stream",
     "text": [
      "JSON file saved to: /opt/git_tools/_development/DW_protein_AI_web/test/example_pdb.json\n"
     ]
    }
   ],
   "source": [
    "import json\n",
    "\n",
    "def alphafoldInputDataGenerateToJSON(pdb_id, datas, folder_path):\n",
    "    alphabet = \"ABCDEFGHIJKLMNOPQRSTUVWXYZ\"\n",
    "    alphabet_idx = 0\n",
    "\n",
    "    sequences = []  # JSON 데이터를 위한 시퀀스 리스트\n",
    "\n",
    "    for data in datas:\n",
    "        for _ in range(data['Copies']):\n",
    "            if alphabet_idx >= len(alphabet):\n",
    "                break\n",
    "            current_alphabet = alphabet[alphabet_idx]\n",
    "            alphabet_idx += 1\n",
    "\n",
    "            if data['Entity'] == 'Protein':\n",
    "                sequences.append({\n",
    "                    \"protein\": {\n",
    "                        \"id\": current_alphabet,\n",
    "                        \"sequence\": data['Content']\n",
    "                    }\n",
    "                })\n",
    "            elif data['Entity'] == 'Ligand':\n",
    "                sequences.append({\n",
    "                    \"ligand\": {\n",
    "                        \"id\": current_alphabet,\n",
    "                        \"smiles\": data['Content']\n",
    "                    }\n",
    "                })\n",
    "\n",
    "    # JSON 생성\n",
    "    json_data = {\n",
    "        \"name\": pdb_id,\n",
    "        \"sequences\": sequences,\n",
    "        \"modelSeeds\": [1],\n",
    "        \"dialect\": \"alphafold3\",\n",
    "        \"version\": 1\n",
    "    }\n",
    "\n",
    "    # JSON 파일 저장\n",
    "    json_file = f\"{folder_path}/{pdb_id}.json\"\n",
    "    with open(json_file, \"w\") as json_out:\n",
    "        json.dump(json_data, json_out, indent=4)\n",
    "\n",
    "    return json_file\n",
    "\n",
    "# 사용 예시\n",
    "pdb_id = \"example_pdb\"\n",
    "datas = [\n",
    "    {\"Entity\": \"Protein\", \"Content\": \"MVLSPADKTNVKAAW\", \"Copies\": 2},\n",
    "    {\"Entity\": \"Ligand\", \"Content\": \"C1=CC=CC=C1\", \"Copies\": 3}\n",
    "]\n",
    "folder_path = \"/opt/git_tools/_development/DW_protein_AI_web/test\"\n",
    "\n",
    "json_file = boltzInputDataGenerateToJSON(pdb_id, datas, folder_path)\n",
    "print(f\"JSON file saved to: {json_file}\")"
   ]
  },
  {
   "cell_type": "code",
   "execution_count": 10,
   "metadata": {},
   "outputs": [
    {
     "ename": "PermissionError",
     "evalue": "[Errno 13] Permission denied: '/opt/git_tools/_development/DW_protein_AI_web/dw_ai_protein_web/datas/outputs/alphafold3/20250102_07h_03m_51s_result/20250102_07h_03m_51s_result_model.cif' -> '/opt/git_tools/_development/DW_protein_AI_web/dw_ai_protein_web/datas/outputs/alphafold3/20250102_07h_03m_51s_result/renamed_20250102_07h_03m_51s_result_model.cif'",
     "output_type": "error",
     "traceback": [
      "\u001b[0;31m---------------------------------------------------------------------------\u001b[0m",
      "\u001b[0;31mPermissionError\u001b[0m                           Traceback (most recent call last)",
      "Cell \u001b[0;32mIn[10], line 25\u001b[0m\n\u001b[1;32m     22\u001b[0m new_file_path \u001b[38;5;241m=\u001b[39m os\u001b[38;5;241m.\u001b[39mpath\u001b[38;5;241m.\u001b[39mjoin(folder_path, new_file_name)\n\u001b[1;32m     24\u001b[0m \u001b[38;5;66;03m# 파일 이름 변경\u001b[39;00m\n\u001b[0;32m---> 25\u001b[0m \u001b[43mos\u001b[49m\u001b[38;5;241;43m.\u001b[39;49m\u001b[43mrename\u001b[49m\u001b[43m(\u001b[49m\u001b[43mold_file_path\u001b[49m\u001b[43m,\u001b[49m\u001b[43m \u001b[49m\u001b[43mnew_file_path\u001b[49m\u001b[43m)\u001b[49m\n\u001b[1;32m     27\u001b[0m \u001b[38;5;28mprint\u001b[39m(\u001b[38;5;124mf\u001b[39m\u001b[38;5;124m\"\u001b[39m\u001b[38;5;124mFile renamed from \u001b[39m\u001b[38;5;132;01m{\u001b[39;00mold_file_path\u001b[38;5;132;01m}\u001b[39;00m\u001b[38;5;124m to \u001b[39m\u001b[38;5;132;01m{\u001b[39;00mnew_file_path\u001b[38;5;132;01m}\u001b[39;00m\u001b[38;5;124m\"\u001b[39m)\n\u001b[1;32m     29\u001b[0m files\n",
      "\u001b[0;31mPermissionError\u001b[0m: [Errno 13] Permission denied: '/opt/git_tools/_development/DW_protein_AI_web/dw_ai_protein_web/datas/outputs/alphafold3/20250102_07h_03m_51s_result/20250102_07h_03m_51s_result_model.cif' -> '/opt/git_tools/_development/DW_protein_AI_web/dw_ai_protein_web/datas/outputs/alphafold3/20250102_07h_03m_51s_result/renamed_20250102_07h_03m_51s_result_model.cif'"
     ]
    }
   ],
   "source": [
    "import os\n",
    "\n",
    "folder_path = \"/opt/git_tools/_development/DW_protein_AI_web/dw_ai_protein_web/datas/outputs/alphafold3/20250102_07h_03m_51s_result\"  # PyMOL 파일이 저장된 경로\n",
    "\n",
    "files = []\n",
    "for root, dirs, filenames in os.walk(folder_path):\n",
    "    for f in filenames:\n",
    "        if f.endswith(('.pdb', '.cif')):\n",
    "            # 상대 경로로 추가\n",
    "            files.append(os.path.relpath(os.path.join(root, f), start=folder_path))\n",
    "\n",
    "files\n",
    "\n",
    "# '/'가 없는 문자열만 추출\n",
    "change_file_name = [f for f in files if '/' not in f])\n",
    "\n",
    "change_file_name"
   ]
  },
  {
   "cell_type": "code",
   "execution_count": 5,
   "metadata": {},
   "outputs": [
    {
     "data": {
      "text/plain": [
       "['20250102_07h_03m_51s_result_model.cif']"
      ]
     },
     "execution_count": 5,
     "metadata": {},
     "output_type": "execute_result"
    }
   ],
   "source": [
    "files = [f for f in os.listdir(folder_path) if f.endswith(('.pdb', '.cif'))]\n",
    "files"
   ]
  }
 ],
 "metadata": {
  "kernelspec": {
   "display_name": "protein_django",
   "language": "python",
   "name": "python3"
  },
  "language_info": {
   "codemirror_mode": {
    "name": "ipython",
    "version": 3
   },
   "file_extension": ".py",
   "mimetype": "text/x-python",
   "name": "python",
   "nbconvert_exporter": "python",
   "pygments_lexer": "ipython3",
   "version": "3.11.11"
  }
 },
 "nbformat": 4,
 "nbformat_minor": 2
}
